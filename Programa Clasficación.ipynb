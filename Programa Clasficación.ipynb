{
 "cells": [
  {
   "cell_type": "code",
   "execution_count": 1,
   "metadata": {},
   "outputs": [],
   "source": [
    "import numpy as np\n",
    "import pandas as pd\n",
    "from sklearn.metrics import accuracy_score\n",
    "from sklearn.model_selection import cross_val_score, train_test_split\n",
    "import os\n",
    "os.getcwd()\n",
    "train = pd.read_csv('./LondonDataSet/train.csv', header = None)\n",
    "trainLabels = pd.read_csv('./LondonDataSet/trainLabels.csv', header = None)\n",
    "test = pd.read_csv('./LondonDataSet/test.csv', header = None)\n",
    "\n",
    "x_train, x_test, y_train, y_test = train_test_split(train, trainLabels, test_size = 0.3, random_state = 40)"
   ]
  },
  {
   "cell_type": "code",
   "execution_count": 2,
   "metadata": {},
   "outputs": [],
   "source": [
    "from sklearn.naive_bayes import GaussianNB\n",
    "from sklearn.neighbors import KNeighborsClassifier\n",
    "from sklearn.ensemble import RandomForestClassifier\n",
    "from sklearn.linear_model import LogisticRegression\n",
    "from sklearn.svm import SVC\n",
    "from sklearn.tree import DecisionTreeClassifier\n",
    "from xgboost import XGBClassifier\n",
    "from sklearn.ensemble import AdaBoostClassifier\n",
    "from hyperlink import URL"
   ]
  },
  {
   "cell_type": "code",
   "execution_count": null,
   "metadata": {},
   "outputs": [],
   "source": []
  },
  {
   "cell_type": "code",
   "execution_count": null,
   "metadata": {},
   "outputs": [],
   "source": []
  },
  {
   "cell_type": "code",
   "execution_count": 3,
   "metadata": {},
   "outputs": [],
   "source": [
    "def dataset_a_escoger(xTrain = x_train, xTest = x_test, YTrain = y_train, YTest = y_test):\n",
    "    print('¿Con qué datos desea realizar el algoritmo?')\n",
    "    print('1. Datos por defecto (en este caso de datascienceLondon)')\n",
    "    print('2. Datos específicos')\n",
    "    aux = int(input())\n",
    "    \n",
    "    if aux == 2:\n",
    "        print('Introduzca la variable global correspondiente a los datasets x_train, x_test, y_train, y_test')\n",
    "        try:\n",
    "            x_train, x_test, y_train, y_test = eval(input())\n",
    "            \n",
    "        except: \n",
    "            return('Alguna de las variables introducidas no coincide con un dataframe correcto')\n",
    "    return funcion_a_escoger_e_hiperparametros()"
   ]
  },
  {
   "cell_type": "code",
   "execution_count": 7,
   "metadata": {},
   "outputs": [],
   "source": [
    "def funcion_a_escoger_e_hiperparametros(datos = 0, respuesta = 0, x = 1, y = 1, respuesta2 = 0, respuesta3 = 0 ):\n",
    "\n",
    "    funciones = ['1. Gaussian-Naive-Bayes','2. KNN (vecino más cercano)', '3. Random Forest', '4. Regresión Logística', \n",
    "                 '5. Maquina de vector soporte', '6. Árbol de decisión', '7. XGBoost', '8. AdaBoost' ]\n",
    "    nombre_funciones = ['GaussianNB()', 'KNeighborsClassifier()','RandomForestClassifier()',\n",
    "                        'LogisticRegression()','SVC()', 'DecisionTreeClassifier()','XGBClassifier()', 'AdaBoostClassifier()']\n",
    "    urls_funciones = ['https://scikit-learn.org/stable/modules/generated/sklearn.naive_bayes.GaussianNB.html', 'https://scikit-learn.org/stable/modules/generated/sklearn.neighbors.KNeighborsClassifier.html',\n",
    "                     'https://scikit-learn.org/stable/modules/generated/sklearn.ensemble.RandomForestClassifier.html?highlight=random%20forest#', 'https://scikit-learn.org/stable/modules/generated/sklearn.linear_model.LogisticRegression.html',\n",
    "                     'https://scikit-learn.org/stable/modules/generated/sklearn.svm.SVC.html#sklearn.svm.SVC','https://scikit-learn.org/stable/modules/generated/sklearn.tree.DecisionTreeClassifier.html', 'https://xgboost.readthedocs.io/en/latest/get_started.html','https://scikit-learn.org/stable/modules/generated/sklearn.ensemble.AdaBoostClassifier.html']\n",
    "    print()\n",
    "    print('Las siguientes funciones son las que están disponibles en este momento: ')\n",
    "    for funcion in funciones:\n",
    "        print(funcion)\n",
    "    \n",
    "    respuesta = int(input('Escriba el número de la función que desea utilizar: '))\n",
    "    print()\n",
    "    \n",
    "    try:\n",
    "        nombre_algoritmo = nombre_funciones[respuesta-1]\n",
    "        print('Has escogido el algoritmo ' + str(funciones[respuesta - 1]))\n",
    "        print('El algoritmo se llama ' + str(nombre_algoritmo))\n",
    "        print('Puedes encontrar su documentación aquí')\n",
    "        url = URL.from_text(urls_funciones[respuesta - 1])\n",
    "        print(url.to_text())\n",
    "    except:\n",
    "        return('--------ERROR : El número a escoger debe estar entre 1 y ' + str(len(funciones))+ '----------')\n",
    "    \n",
    "    modelo = eval(nombre_algoritmo)\n",
    "\n",
    "    \n",
    "    print('Este algoritmo tiene los siguientes parámetros: ')\n",
    "    \n",
    "    params = modelo.get_params()\n",
    "    for key in params : \n",
    "        print('\\t' +  key, ':' , params[key])\n",
    "    y = 1\n",
    "    while y == 1:\n",
    "        modelo2 = modelo\n",
    "        diccionario = {}\n",
    "    \n",
    "        x = int(input('¿Quieres modificar algún parámetro?' + '\\n' +  '0.No - 1.Si: '))\n",
    "    \n",
    "        while x == 1:\n",
    "            respuesta2 = input('Elige el parámetro a modificar :' + '\\n'\n",
    "                       '(El nombre correspondiente al nombre del parámetro en la librería)')\n",
    "    \n",
    "            print('El parámetro : ' + str(respuesta2) + ' tiene ahora mismo el valor ' + str(params[respuesta2]))\n",
    "        \n",
    "            respuesta3 = input('¿Cuál quieres que sea su nuevo valor?: ')\n",
    "        \n",
    "            try:\n",
    "                respuesta3  = eval(respuesta3)\n",
    "            except:\n",
    "                print('Warning : el tipo será string' )\n",
    "            #print(type(a))\n",
    "            diccionario[respuesta2] = respuesta3\n",
    "            x = int(input('¿Quieres modificar algún parámetro más?' + '\\n' +  '0.No - 1.Si: '))\n",
    "        \n",
    "        for i in range(len(diccionario)):\n",
    "            modelo.set_params(**diccionario)\n",
    "        print()\n",
    "        print(modelo)\n",
    "        \n",
    "        try :  \n",
    "            modelo.fit(x_train,y_train.values.ravel())\n",
    "            y = 0\n",
    "        except:\n",
    "            print('Existe algún parámetro que no se ha escrito bien')\n",
    "            print('¿Qué quieres hacer?')\n",
    "            print('1. Volver a modificar todos los parámetros')\n",
    "            print('2. Realizar el algoritmo con los parámetros por defecto')\n",
    "            y = int(input())\n",
    "            modelo = modelo2\n",
    "            modelo.fit(x_train,y_train.values.ravel())\n",
    "    predicted = modelo.predict(x_test)\n",
    "    acc_score = accuracy_score(y_test, predicted)\n",
    "    print()\n",
    "    print('Precision de este modelo: ' + str(acc_score))\n",
    "    print('Score de este modelo: ' + str())\n",
    "    \n",
    "    print('¿Quieres guardar el modelo en esta variable para realizar más métodos?')\n",
    "    t = int(input('0.No - 1.Si: '))\n",
    "    if t == 1:\n",
    "        print('Puedes encontrar todos los métodos disponibles aquí')\n",
    "        url2 = URL.from_text('https://scikit-learn.org/stable/modules/classes.html#module-sklearn.metrics')\n",
    "        print(url2.to_text())\n",
    "        return modelo\n"
   ]
  },
  {
   "cell_type": "code",
   "execution_count": null,
   "metadata": {},
   "outputs": [
    {
     "name": "stdout",
     "output_type": "stream",
     "text": [
      "¿Con qué datos desea realizar el algoritmo?\n",
      "1. Datos por defecto (en este caso de datascienceLondon)\n",
      "2. Datos específicos\n",
      "1\n",
      "\n",
      "Las siguientes funciones son las que están disponibles en este momento: \n",
      "1. Gaussian-Naive-Bayes\n",
      "2. KNN (vecino más cercano)\n",
      "3. Random Forest\n",
      "4. Regresión Logística\n",
      "5. Maquina de vector soporte\n",
      "6. Árbol de decisión\n",
      "7. XGBoost\n",
      "8. AdaBoost\n",
      "Escriba el número de la función que desea utilizar: 2\n",
      "\n",
      "Has escogido el algoritmo 2. KNN (vecino más cercano)\n",
      "El algoritmo se llama KNeighborsClassifier()\n",
      "Puedes encontrar su documentación aquí\n",
      "https://scikit-learn.org/stable/modules/generated/sklearn.neighbors.KNeighborsClassifier.html\n",
      "Este algoritmo tiene los siguientes parámetros: \n",
      "\talgorithm : auto\n",
      "\tleaf_size : 30\n",
      "\tmetric : minkowski\n",
      "\tmetric_params : None\n",
      "\tn_jobs : None\n",
      "\tn_neighbors : 5\n",
      "\tp : 2\n",
      "\tweights : uniform\n",
      "¿Quieres modificar algún parámetro?\n",
      "0.No - 1.Si: 0\n",
      "\n",
      "KNeighborsClassifier(algorithm='auto', leaf_size=30, metric='minkowski',\n",
      "                     metric_params=None, n_jobs=None, n_neighbors=5, p=2,\n",
      "                     weights='uniform')\n",
      "\n",
      "Precision de este modelo: 0.8733333333333333\n",
      "Score de este modelo: \n",
      "¿Quieres guardar el modelo en esta variable para realizar más métodos?\n"
     ]
    }
   ],
   "source": [
    "modelo = dataset_a_escoger()"
   ]
  },
  {
   "cell_type": "code",
   "execution_count": 6,
   "metadata": {},
   "outputs": [
    {
     "data": {
      "text/plain": [
       "SVC(C=1.0, cache_size=200, class_weight=None, coef0=0.0,\n",
       "    decision_function_shape='ovr', degree=5, gamma='auto_deprecated',\n",
       "    kernel='rbf', max_iter=-1, probability=False, random_state=None,\n",
       "    shrinking=True, tol=0.001, verbose=False)"
      ]
     },
     "execution_count": 6,
     "metadata": {},
     "output_type": "execute_result"
    }
   ],
   "source": [
    "modelo"
   ]
  },
  {
   "cell_type": "code",
   "execution_count": null,
   "metadata": {},
   "outputs": [],
   "source": []
  }
 ],
 "metadata": {
  "kernelspec": {
   "display_name": "Python 3",
   "language": "python",
   "name": "python3"
  },
  "language_info": {
   "codemirror_mode": {
    "name": "ipython",
    "version": 3
   },
   "file_extension": ".py",
   "mimetype": "text/x-python",
   "name": "python",
   "nbconvert_exporter": "python",
   "pygments_lexer": "ipython3",
   "version": "3.7.4"
  }
 },
 "nbformat": 4,
 "nbformat_minor": 2
}
