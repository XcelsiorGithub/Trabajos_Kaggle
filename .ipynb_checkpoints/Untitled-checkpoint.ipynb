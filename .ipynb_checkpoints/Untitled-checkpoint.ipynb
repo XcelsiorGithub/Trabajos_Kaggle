{
 "cells": [
  {
   "cell_type": "code",
   "execution_count": 4,
   "metadata": {},
   "outputs": [
    {
     "name": "stdout",
     "output_type": "stream",
     "text": [
      "elige un tipo :2\n",
      "<class 'int'>\n",
      "Seguimos? 0.Si - 1.No : 0\n",
      "elige un tipo :gjkhlasdj\n",
      "Warning : el tipo será string\n",
      "<class 'str'>\n",
      "Seguimos? 0.Si - 1.No : 0\n",
      "elige un tipo :[2,3,4,5]\n",
      "<class 'list'>\n",
      "Seguimos? 0.Si - 1.No : 1\n"
     ]
    }
   ],
   "source": [
    "x= 0\n",
    "while x == 0:\n",
    "    a = input('elige un tipo :')\n",
    "    try:\n",
    "        a  = eval(a)\n",
    "    except:\n",
    "        print('Warning : el tipo será string' )\n",
    "    print(type(a))\n",
    "    x = int(input('Seguimos? 0.Si - 1.No : '))"
   ]
  },
  {
   "cell_type": "code",
   "execution_count": 5,
   "metadata": {},
   "outputs": [
    {
     "data": {
      "text/plain": [
       "2"
      ]
     },
     "execution_count": 5,
     "metadata": {},
     "output_type": "execute_result"
    }
   ],
   "source": [
    "2"
   ]
  },
  {
   "cell_type": "code",
   "execution_count": 6,
   "metadata": {},
   "outputs": [
    {
     "data": {
      "text/plain": [
       "'2'"
      ]
     },
     "execution_count": 6,
     "metadata": {},
     "output_type": "execute_result"
    }
   ],
   "source": [
    "'2'"
   ]
  },
  {
   "cell_type": "code",
   "execution_count": null,
   "metadata": {},
   "outputs": [],
   "source": []
  }
 ],
 "metadata": {
  "kernelspec": {
   "display_name": "Python 3",
   "language": "python",
   "name": "python3"
  },
  "language_info": {
   "codemirror_mode": {
    "name": "ipython",
    "version": 3
   },
   "file_extension": ".py",
   "mimetype": "text/x-python",
   "name": "python",
   "nbconvert_exporter": "python",
   "pygments_lexer": "ipython3",
   "version": "3.7.4"
  }
 },
 "nbformat": 4,
 "nbformat_minor": 2
}
